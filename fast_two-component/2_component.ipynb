{
 "cells": [
  {
   "cell_type": "markdown",
   "metadata": {},
   "source": [
    "### ライブラリインポート"
   ]
  },
  {
   "cell_type": "code",
   "execution_count": 1,
   "metadata": {},
   "outputs": [],
   "source": [
    "import numpy as np\n",
    "from tqdm import tqdm\n",
    "from numba import jit, f8, c16, i8\n",
    "import yaml\n",
    "import os\n",
    "import sys\n",
    "os.makedirs('output', exist_ok=True)\n",
    "os.makedirs('output/wavefunction1', exist_ok=True)\n",
    "os.makedirs('output/wavefunction2', exist_ok=True)"
   ]
  },
  {
   "cell_type": "markdown",
   "metadata": {},
   "source": [
    "### 関数"
   ]
  },
  {
   "cell_type": "code",
   "execution_count": 2,
   "metadata": {},
   "outputs": [],
   "source": [
    "def vor_add(x,y,si,position_x,position_y):\n",
    "    return np.exp(1j*si*np.arctan2(x-position_x,y-position_y))\n",
    "\n",
    "def vortex_create(vor_num,R_0,x,y):\n",
    "    #print(type(vor_num),type(R_0),type(x),type(y))\n",
    "    count_vor_num:int=0\n",
    "    pos_x=np.zeros(vortex_num,dtype='float32')\n",
    "    pos_y=np.zeros(vortex_num,dtype='float32')\n",
    "    while count_vor_num<vor_num:\n",
    "        x_tmp=(np.random.rand()-0.5)*R_0*2\n",
    "        y_tmp=(np.random.rand()-0.5)*R_0*2\n",
    "        if x_tmp**2+y_tmp**2<R_0**2:\n",
    "            pos_x[count_vor_num]=x_tmp\n",
    "            pos_y[count_vor_num]=y_tmp\n",
    "            count_vor_num=count_vor_num+1\n",
    "    sign=np.ones(vor_num,dtype=int)\n",
    "    sign[0:vor_num//2]=-1\n",
    "    phi=1\n",
    "    for i in range(len(pos_x)):\n",
    "        phi=phi*vor_add(x-np.max(x)/2,y-np.max(y)/2,sign[i],pos_x[i],pos_y[i])\n",
    "        phi=phi*vor_add(x+np.max(x)/2,y-np.max(y)/2,-sign[i],-pos_x[i],pos_y[i])\n",
    "        phi=phi*vor_add(x-np.max(x)/2,y+np.max(y)/2,-sign[i],pos_x[i],-pos_y[i])\n",
    "        phi=phi*vor_add(x+np.max(x)/2,y+np.max(y)/2,sign[i],-pos_x[i],-pos_y[i])\n",
    "    return phi\n",
    "\n",
    "def aliasing(targ,K):\n",
    "    filter_aliasing=K<np.max(K)/8\n",
    "    return targ*filter_aliasing\n",
    "\n",
    "def RungeKutta(nonlinear_func,target,target_sub,alpha,V,G,delta_t,K,vol):\n",
    "    k_1=nonlinear_func(target,target_sub,V,G,K,vol)\n",
    "    k_1=aliasing(k_1,K)\n",
    "    k_2=nonlinear_func(np.exp(-alpha*delta_t/2)*(target+delta_t*k_1/2),np.exp(-alpha*delta_t/2)*(target_sub+delta_t*k_1/2),V,G,K,vol)\n",
    "    k_2=aliasing(k_2,K)\n",
    "    k_3=nonlinear_func(np.exp(-alpha*delta_t/2)*target+delta_t*k_2/2,np.exp(-alpha*delta_t/2)*target_sub+delta_t*k_2/2,V,G,K,vol)\n",
    "    k_3=aliasing(k_3,K)\n",
    "    k_4=nonlinear_func(np.exp(-alpha*delta_t)*target+np.exp(-alpha*delta_t/2)*delta_t*k_3,np.exp(-alpha*delta_t)*target_sub+np.exp(-alpha*delta_t/2)*delta_t*k_3,V,G,K,vol)\n",
    "    k_4=aliasing(k_4,K)\n",
    "    new_target=np.exp(-alpha*delta_t)*target+delta_t*(np.exp(-alpha*delta_t)*k_1+2*np.exp(-alpha*delta_t/2)*k_2+2*np.exp(-alpha*delta_t/2)*k_3+k_4)/6\n",
    "    return new_target\n",
    "    \n",
    "def nonlinear_image(Psi_k,Psi_k_sub,V,G,K,vol):\n",
    "    Psi_1=np.fft.ifft2(Psi_k).astype(np.complex64)\n",
    "    Psi_2=np.fft.ifft2(Psi_k_sub).astype(np.complex64)\n",
    "    return np.fft.fft2(-V*Psi_1-vol*np.abs(Psi_1)**2*Psi_1-G*vol*np.abs(Psi_2)**2*Psi_1)\n",
    "\n",
    "def nonlinear_real(Psi_k,Psi_k_sub,V,G,K,vol):\n",
    "    Psi_1=np.fft.ifft2(Psi_k).astype(np.complex64)\n",
    "    Psi_2=np.fft.ifft2(Psi_k_sub).astype(np.complex64)\n",
    "    return np.fft.fft2(-1j*V*Psi_1-1j*vol*np.abs(Psi_1)**2*Psi_1-1j*G*vol*np.abs(Psi_2)**2*Psi_1)"
   ]
  },
  {
   "cell_type": "markdown",
   "metadata": {},
   "source": [
    "### 空間生成"
   ]
  },
  {
   "cell_type": "code",
   "execution_count": 3,
   "metadata": {},
   "outputs": [
    {
     "name": "stdout",
     "output_type": "stream",
     "text": [
      "Spatial resolution : 0.14285714285714285\n",
      "Wavenumber resolution : 0.04295146\n",
      "Time resolution : 0.01\n"
     ]
    }
   ],
   "source": [
    "with open('config.yaml') as file:\n",
    "    object_yaml = yaml.safe_load(file)\n",
    "    space_div_num=object_yaml['space_div_num']\n",
    "    a_osc_num=object_yaml['a_osc_num']\n",
    "    delta_t=object_yaml['delta_t']\n",
    "    t_N=object_yaml['t_N']\n",
    "    g_12=object_yaml['g_12']\n",
    "    vortex_num=object_yaml['vortex_num']\n",
    "    R_0=object_yaml['R_0']\n",
    "    V_0=object_yaml['V_0']\n",
    "    output_wavefunction=object_yaml['output_wavefunction']\n",
    "    Nonlinearity=object_yaml['Nonlinearity']\n",
    "delta_x=1/a_osc_num\n",
    "\n",
    "space=np.linspace(-delta_x*(space_div_num-2)/2,delta_x*(space_div_num)/2,space_div_num).astype(np.float32)\n",
    "x,y=np.meshgrid(space,space)\n",
    "space_sq=x**2+y**2\n",
    "k=2*np.pi*np.fft.fftfreq(space_div_num,d=delta_x)\n",
    "k=k.astype(np.float32)\n",
    "k_x,k_y=np.meshgrid(k,k)\n",
    "k_sq=k_x**2+k_y**2\n",
    "print(\"Spatial resolution : \"+str(delta_x))\n",
    "print(\"Wavenumber resolution : \"+str(k[1]))\n",
    "print(\"Time resolution : \"+str(delta_t))\n",
    "\n",
    "H=(x-np.min(x)/2)**2+(y-np.min(y)/2)**2>(R_0*0.9)**2\n",
    "H=H*((x+np.min(x)/2)**2+(y-np.min(y)/2)**2>(R_0*0.9)**2)\n",
    "H=H*((x-np.min(x)/2)**2+(y+np.min(y)/2)**2>(R_0*0.9)**2)\n",
    "H=H*((x+np.min(x)/2)**2+(y+np.min(y)/2)**2>(R_0*0.9)**2)\n",
    "V=(np.tanh(0.6*(((x-np.min(x)/2)**2+(y-np.min(y)/2)**2)**0.5-1.12*R_0))+1)\n",
    "V=V*(np.tanh(0.6*(((x+np.min(x)/2)**2+(y-np.min(y)/2)**2)**0.5-1.12*R_0))+1)\n",
    "V=V*(np.tanh(0.6*(((x-np.min(x)/2)**2+(y+np.min(y)/2)**2)**0.5-1.12*R_0))+1)\n",
    "V=V*(np.tanh(0.6*(((x+np.min(x)/2)**2+(y+np.min(y)/2)**2)**0.5-1.12*R_0))+1)\n",
    "V=V*V_0\n",
    "V_k=np.fft.fft2(V)\n",
    "V=np.fft.ifft2(aliasing(V_k,k_sq))\n",
    "V=V.astype(np.complex64)"
   ]
  },
  {
   "cell_type": "markdown",
   "metadata": {},
   "source": [
    "### 波動関数生成"
   ]
  },
  {
   "cell_type": "code",
   "execution_count": 4,
   "metadata": {},
   "outputs": [
    {
     "name": "stdout",
     "output_type": "stream",
     "text": [
      "initial wavefunction is created\n"
     ]
    }
   ],
   "source": [
    "psi_1=vortex_create(vortex_num,R_0,x,y)\n",
    "psi_1=psi_1/(np.sum(np.abs(psi_1)**2)*delta_x**2)**0.5\n",
    "\n",
    "psi_2=vortex_create(vortex_num,R_0,x,y)\n",
    "psi_2=psi_2/(np.sum(np.abs(psi_2)**2)*delta_x**2)**0.5\n",
    "\n",
    "psi_k_1=aliasing(np.fft.fft2(psi_1),k_sq)\n",
    "psi_k_2=aliasing(np.fft.fft2(psi_2),k_sq)\n",
    "print(\"initial wavefunction is created\")"
   ]
  },
  {
   "cell_type": "markdown",
   "metadata": {},
   "source": [
    "### 虚時間発展"
   ]
  },
  {
   "cell_type": "code",
   "execution_count": 5,
   "metadata": {},
   "outputs": [
    {
     "name": "stderr",
     "output_type": "stream",
     "text": [
      "100%|██████████| 10/10 [00:14<00:00,  1.41s/it]\n"
     ]
    }
   ],
   "source": [
    "linear_term_imag=k_sq/2\n",
    "for i in tqdm(range(10)):\n",
    "    psi_k_1_tmp=RungeKutta(nonlinear_image,psi_k_1,psi_k_2,linear_term_imag,V,g_12,delta_t,k_sq,Nonlinearity)\n",
    "    psi_k_2=RungeKutta(nonlinear_image,psi_k_2,psi_k_1,linear_term_imag,V,g_12,delta_t,k_sq,Nonlinearity)\n",
    "    psi_k_1=psi_k_1_tmp\n",
    "    psi_k_1=aliasing(psi_k_1,k_sq)\n",
    "    psi_k_2=aliasing(psi_k_2,k_sq)\n",
    "psi_1=np.fft.ifft2(psi_k_1)\n",
    "psi_1=psi_1/(np.sum(np.abs(psi_1)**2)*delta_x**2)**0.5\n",
    "psi_k_1=aliasing(np.fft.fft2(psi_1),k_sq)\n",
    "psi_2=np.fft.ifft2(psi_k_2)\n",
    "psi_2=psi_2/(np.sum(np.abs(psi_2)**2)*delta_x**2)**0.5\n",
    "psi_k_2=aliasing(np.fft.fft2(psi_2),k_sq)\n",
    "np.save('output/wavefunction1/initial',psi_1)\n",
    "np.save('output/wavefunction2/initial',psi_2)"
   ]
  },
  {
   "cell_type": "markdown",
   "metadata": {},
   "source": [
    "### 実時間発展"
   ]
  },
  {
   "cell_type": "code",
   "execution_count": 6,
   "metadata": {},
   "outputs": [
    {
     "name": "stderr",
     "output_type": "stream",
     "text": [
      "100%|██████████| 1000/1000 [31:57<00:00,  1.92s/it]\n"
     ]
    }
   ],
   "source": [
    "psi_1=np.fft.ifft2(psi_k_1)\n",
    "psi_2=np.fft.ifft2(psi_k_2)\n",
    "linear_term_real=1j*k_sq/2\n",
    "for i in tqdm(range(t_N)):\n",
    "    psi_k_1_tmp=RungeKutta(nonlinear_real,psi_k_1,psi_k_2,linear_term_real,V,g_12,delta_t,k_sq,Nonlinearity)\n",
    "    psi_k_2=RungeKutta(nonlinear_real,psi_k_2,psi_k_1,linear_term_real,V,g_12,delta_t,k_sq,Nonlinearity)\n",
    "    psi_k_1=psi_k_1_tmp\n",
    "    psi_k_1=aliasing(psi_k_1,k_sq)\n",
    "    psi_k_2=aliasing(psi_k_2,k_sq)\n",
    "    if (i+1)%output_wavefunction==0:\n",
    "        psi_1=np.fft.ifft2(psi_k_1)\n",
    "        psi_2=np.fft.ifft2(psi_k_2)\n",
    "        np.save('output/wavefunction1/'+str(i+1),psi_1)\n",
    "        np.save('output/wavefunction2/'+str(i+1),psi_2)\n",
    "        del psi_1,psi_2"
   ]
  },
  {
   "cell_type": "code",
   "execution_count": null,
   "metadata": {},
   "outputs": [],
   "source": []
  }
 ],
 "metadata": {
  "kernelspec": {
   "display_name": "Python 3",
   "language": "python",
   "name": "python3"
  },
  "language_info": {
   "codemirror_mode": {
    "name": "ipython",
    "version": 3
   },
   "file_extension": ".py",
   "mimetype": "text/x-python",
   "name": "python",
   "nbconvert_exporter": "python",
   "pygments_lexer": "ipython3",
   "version": "3.6.9"
  }
 },
 "nbformat": 4,
 "nbformat_minor": 2
}
