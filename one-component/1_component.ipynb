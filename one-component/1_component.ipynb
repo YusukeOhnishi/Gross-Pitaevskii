{
 "cells": [
  {
   "cell_type": "markdown",
   "metadata": {},
   "source": [
    "### ライブラリインポート"
   ]
  },
  {
   "cell_type": "code",
   "execution_count": 1,
   "metadata": {},
   "outputs": [],
   "source": [
    "import numpy as np\n",
    "from tqdm import tqdm\n",
    "from numba import jit, f8, c16, i8\n",
    "import os\n",
    "import sys\n",
    "os.makedirs('output', exist_ok=True)\n",
    "os.makedirs('output/wavefunction', exist_ok=True)"
   ]
  },
  {
   "cell_type": "markdown",
   "metadata": {},
   "source": [
    "### 関数"
   ]
  },
  {
   "cell_type": "code",
   "execution_count": 2,
   "metadata": {},
   "outputs": [],
   "source": [
    "@jit('c16[:,:](f8[:,:],f8[:,:],int64,float64,float64)',cache=True)\n",
    "def vor_add(x,y,si,position_x,position_y):\n",
    "    return np.exp(1j*si*np.arctan2(x-position_x,y-position_y))\n",
    "\n",
    "def vortex_create(vor_num,R_0,x,y):\n",
    "    #print(type(vor_num),type(R_0),type(x),type(y))\n",
    "    count_vor_num:int=0\n",
    "    pos_x=np.zeros(vortex_num,dtype='float64')\n",
    "    pos_y=np.zeros(vortex_num,dtype='float64')\n",
    "    while count_vor_num<vor_num:\n",
    "        x_tmp=(np.random.rand()-0.5)*R_0*2\n",
    "        y_tmp=(np.random.rand()-0.5)*R_0*2\n",
    "        if x_tmp**2+y_tmp**2<R_0**2:\n",
    "            pos_x[count_vor_num]=x_tmp\n",
    "            pos_y[count_vor_num]=y_tmp\n",
    "            count_vor_num=count_vor_num+1\n",
    "    sign=np.ones(vor_num,dtype=int)\n",
    "    sign[0:vor_num//2]=-1\n",
    "    phi=1\n",
    "    for i in range(len(pos_x)):\n",
    "        phi=phi*vor_add(x-np.max(x)/2,y-np.max(y)/2,sign[i],pos_x[i],pos_y[i])\n",
    "        phi=phi*vor_add(x+np.max(x)/2,y-np.max(y)/2,-sign[i],-pos_x[i],pos_y[i])\n",
    "        phi=phi*vor_add(x-np.max(x)/2,y+np.max(y)/2,-sign[i],pos_x[i],-pos_y[i])\n",
    "        phi=phi*vor_add(x+np.max(x)/2,y+np.max(y)/2,sign[i],-pos_x[i],-pos_y[i])\n",
    "    return phi\n",
    "\n",
    "@jit('c16[:,:](c16[:,:],f8[:,:])',cache=True)\n",
    "def aliasing(targ,K):\n",
    "    filter_aliasing=K<np.max(K)/(2**2)\n",
    "    return targ*filter_aliasing\n",
    "\n",
    "def RungeKutta(nonlinear_func,target,alpha,V,delta_t,K,vol):\n",
    "    k_1=nonlinear_func(target,V,K,vol)\n",
    "    k_1=aliasing(k_1,K)\n",
    "    k_2=nonlinear_func(np.exp(-alpha*delta_t/2)*(target+delta_t*k_1/2),V,K,vol)\n",
    "    k_2=aliasing(k_2,K)\n",
    "    k_3=nonlinear_func(np.exp(-alpha*delta_t/2)*target+delta_t*k_2/2,V,K,vol)\n",
    "    k_3=aliasing(k_3,K)\n",
    "    k_4=nonlinear_func(np.exp(-alpha*delta_t)*target+np.exp(-alpha*delta_t/2)*delta_t*k_3,V,K,vol)\n",
    "    k_4=aliasing(k_4,K)\n",
    "    new_target=np.exp(-alpha*delta_t)*target+delta_t*(np.exp(-alpha*delta_t)*k_1+2*np.exp(-alpha*delta_t/2)*k_2+2*np.exp(-alpha*delta_t/2)*k_3+k_4)/6\n",
    "    return new_target\n",
    "    \n",
    "def nonlinear_image(Psi_k,V,K,vol):\n",
    "    Psi=np.fft.ifft2(Psi_k)\n",
    "    return np.fft.fft2(-V*Psi)+np.fft.fft2(-vol*np.abs(Psi)**2*Psi)\n",
    "\n",
    "def nonlinear_real(Psi_k,V,K,vol):\n",
    "    Psi=np.fft.ifft2(Psi_k)\n",
    "    return np.fft.fft2(-1j*V*Psi)+np.fft.fft2(-1j*vol*np.abs(Psi)**2*Psi)"
   ]
  },
  {
   "cell_type": "markdown",
   "metadata": {},
   "source": [
    "### 空間生成"
   ]
  },
  {
   "cell_type": "code",
   "execution_count": 3,
   "metadata": {},
   "outputs": [
    {
     "name": "stdout",
     "output_type": "stream",
     "text": [
      "Spatial resolution : 0.125\n",
      "Wavenumber resolution : 0.04908738521234052\n",
      "Time resolution : 0.005\n"
     ]
    }
   ],
   "source": [
    "space_div_num=1024\n",
    "xi_num=8\n",
    "delta_x=1/xi_num\n",
    "delta_t=0.005\n",
    "t_N=1000\n",
    "vortex_num=120\n",
    "R_0=13.1\n",
    "V_0=1\n",
    "g_12=0.1\n",
    "volume=(space_div_num*delta_x)**2\n",
    "\n",
    "space=np.linspace(-delta_x*space_div_num/2,delta_x*space_div_num/2,space_div_num)\n",
    "x,y=np.meshgrid(space,space)\n",
    "space_sq=x**2+y**2\n",
    "k=2*np.pi*np.fft.fftfreq(space_div_num,d=delta_x)\n",
    "k_x,k_y=np.meshgrid(k,k)\n",
    "k_sq=k_x**2+k_y**2\n",
    "print(\"Spatial resolution : \"+str(delta_x))\n",
    "print(\"Wavenumber resolution : \"+str(k[1]))\n",
    "print(\"Time resolution : \"+str(delta_t))\n",
    "\n",
    "H=(x-np.max(x)/2)**2+(y-np.max(y)/2)**2>(R_0*0.9)**2\n",
    "H=H*((x+np.max(x)/2)**2+(y-np.max(y)/2)**2>(R_0*0.9)**2)\n",
    "H=H*((x-np.max(x)/2)**2+(y+np.max(y)/2)**2>(R_0*0.9)**2)\n",
    "H=H*((x+np.max(x)/2)**2+(y+np.max(y)/2)**2>(R_0*0.9)**2)\n",
    "V=(np.tanh((((x-np.max(x)/2)**2+(y-np.max(y)/2)**2)**0.5-R_0))+1)/2\n",
    "V=V*(np.tanh((((x+np.max(x)/2)**2+(y-np.max(y)/2)**2)**0.5-R_0))+1)/2\n",
    "V=V*(np.tanh((((x-np.max(x)/2)**2+(y+np.max(y)/2)**2)**0.5-R_0))+1)/2\n",
    "V=V*(np.tanh((((x+np.max(x)/2)**2+(y+np.max(y)/2)**2)**0.5-R_0))+1)/2\n",
    "V=V*V_0\n",
    "V_k=np.fft.fft2(V)\n",
    "V=np.fft.ifft2(aliasing(V_k,k_sq))"
   ]
  },
  {
   "cell_type": "markdown",
   "metadata": {},
   "source": [
    "### 波動関数生成"
   ]
  },
  {
   "cell_type": "code",
   "execution_count": 4,
   "metadata": {},
   "outputs": [
    {
     "name": "stdout",
     "output_type": "stream",
     "text": [
      "initial wavefunction is created\n"
     ]
    }
   ],
   "source": [
    "psi=vortex_create(vortex_num,R_0,x,y)\n",
    "psi=psi/(np.sum(np.abs(psi)**2)*delta_x**2)**0.5\n",
    "psi[0,:]=psi[-1,:]\n",
    "psi[:,0]=psi[:,-1]\n",
    "\n",
    "psi_k=aliasing(np.fft.fft2(psi),k_sq)\n",
    "print(\"initial wavefunction is created\")"
   ]
  },
  {
   "cell_type": "markdown",
   "metadata": {},
   "source": [
    "### 虚時間発展"
   ]
  },
  {
   "cell_type": "code",
   "execution_count": 5,
   "metadata": {},
   "outputs": [
    {
     "name": "stderr",
     "output_type": "stream",
     "text": [
      "100%|██████████| 200/200 [02:05<00:00,  1.60it/s]\n"
     ]
    }
   ],
   "source": [
    "linear_term_imag=k_sq/2\n",
    "for i in tqdm(range(200)):\n",
    "    psi_k=RungeKutta(nonlinear_image,psi_k,linear_term_imag,V,0.0001,k_sq,volume)\n",
    "    psi_k=aliasing(psi_k,k_sq)\n",
    "psi=np.fft.ifft2(psi_k)\n",
    "psi=psi/(np.sum(np.abs(psi)**2)*delta_x**2)**0.5\n",
    "psi_k=aliasing(np.fft.fft2(psi),k_sq)\n",
    "np.save('output/wavefunction/initial',psi)"
   ]
  },
  {
   "cell_type": "markdown",
   "metadata": {},
   "source": [
    "### 実時間発展"
   ]
  },
  {
   "cell_type": "code",
   "execution_count": 6,
   "metadata": {},
   "outputs": [
    {
     "name": "stderr",
     "output_type": "stream",
     "text": [
      "100%|██████████| 1000/1000 [14:57<00:00,  1.11it/s]\n"
     ]
    }
   ],
   "source": [
    "psi=np.fft.ifft2(psi_k)\n",
    "linear_term_real=1j*k_sq/2\n",
    "for i in tqdm(range(t_N)):\n",
    "    psi_k=RungeKutta(nonlinear_real,psi_k,linear_term_real,V,delta_t,k_sq,volume)\n",
    "    psi_k=aliasing(psi_k,k_sq)\n",
    "    if (i+1)%200==0:\n",
    "        file_name=i+1\n",
    "        psi=np.fft.ifft2(psi_k)\n",
    "        np.save('output/wavefunction/'+str(i+1),psi)\n",
    "        del psi"
   ]
  },
  {
   "cell_type": "code",
   "execution_count": null,
   "metadata": {},
   "outputs": [],
   "source": []
  }
 ],
 "metadata": {
  "kernelspec": {
   "display_name": "Python 3",
   "language": "python",
   "name": "python3"
  },
  "language_info": {
   "codemirror_mode": {
    "name": "ipython",
    "version": 3
   },
   "file_extension": ".py",
   "mimetype": "text/x-python",
   "name": "python",
   "nbconvert_exporter": "python",
   "pygments_lexer": "ipython3",
   "version": "3.6.9"
  }
 },
 "nbformat": 4,
 "nbformat_minor": 2
}
